{
 "cells": [
  {
   "cell_type": "code",
   "execution_count": 67,
   "metadata": {},
   "outputs": [
    {
     "name": "stdout",
     "output_type": "stream",
     "text": [
      "Catalyzes the irreversible transamination of the L-tryptophan\n",
      "metabolite L-kynurenine to form kynurenic acid (KA). As a member of the\n",
      "malate-aspartate shuttle, it has a key role in the intracellular NAD(H)\n",
      "redox balance. Is important for metabolite exchange between\n",
      "mitochondria and cytosol, and for amino acid metabolism. Facilitates\n",
      "cellular uptake of long-chain free fatty acids.\n",
      "{ECO:0000250|UniProtKB:P00505}.\n",
      "None\n"
     ]
    }
   ],
   "source": [
    "import requests\n",
    "\n",
    "def get_uniprot_info_tuple(uniprot_accession_code):\n",
    "    sequence = get_sequence(uniprot_accession_code)\n",
    "    organism_function = get_function(uniprot_accession_code)\n",
    "    return (sequence,organism_function)\n",
    "\n",
    "\n",
    "def get_sequence(uniprot_accession_code):\n",
    "    url = f'https://rest.uniprot.org/uniprotkb/{uniprot_accession_code}.fasta'\n",
    "    response = requests.get(url)\n",
    "    if response.status_code == 200:\n",
    "        return response.text.strip()\n",
    "    raise ValueError(\"Could not retrieve sequence information\")\n",
    "\n",
    "def get_function(uniprot_accession_code):\n",
    "    url = f'https://www.uniprot.org/uniprot/{uniprot_accession_code}.txt'\n",
    "    response = requests.get(url)\n",
    "    if response.status_code == 200:\n",
    "        hola = False\n",
    "        for line in response.text.split('\\n'):\n",
    "            if 'FUNCTION' in line:\n",
    "                hola = True\n",
    "            elif '-!-' in line:\n",
    "                hola = False\n",
    "            if hola == True: \n",
    "                line = line.replace('CC   ', '')\n",
    "                line = line.replace('-!- FUNCTION:', '')\n",
    "                print(line.strip())\n",
    "        return \n",
    "    return None\n",
    "\n",
    "def download_image(url, filename):\n",
    "    response = requests.get(url)\n",
    "    if response.status_code == 200:\n",
    "        with open(filename, 'wb') as file:\n",
    "            file.write(response.content)\n",
    "        print(f\"Image downloaded: {filename}\")\n",
    "    else:\n",
    "        print(f\"Failed to download image: {url}\")\n",
    "\n",
    "def print_image_by_assembly(assembly):\n",
    "    if assembly == 1:\n",
    "        url = \"https://cdn.rcsb.org/images/structures/1ako_assembly-1.jpeg\"\n",
    "        filename = \"assembly_1.jpeg\"\n",
    "    elif assembly == 2:\n",
    "        url = \"https://cdn.rcsb.org/images/structures/1ako_assembly-2.jpeg\"\n",
    "        filename = \"assembly_2.jpeg\"\n",
    "        download_image(url, filename)\n",
    "    else:\n",
    "        print(f\"No image available for assembly {assembly}\")\n",
    "\n",
    "# Example usage\n",
    "print_image_by_assembly(1)\n",
    "\n",
    "print(get_function('P12345'))\n",
    "\n",
    "\n",
    "#print(get_sequence('P12345'))\n",
    "\n"
   ]
  }
 ],
 "metadata": {
  "kernelspec": {
   "display_name": "Javi",
   "language": "python",
   "name": "javi"
  },
  "language_info": {
   "codemirror_mode": {
    "name": "ipython",
    "version": 3
   },
   "file_extension": ".py",
   "mimetype": "text/x-python",
   "name": "python",
   "nbconvert_exporter": "python",
   "pygments_lexer": "ipython3",
   "version": "3.9.18"
  }
 },
 "nbformat": 4,
 "nbformat_minor": 2
}
