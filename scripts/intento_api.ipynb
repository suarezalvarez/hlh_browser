{
 "cells": [
  {
   "cell_type": "code",
   "execution_count": 56,
   "metadata": {},
   "outputs": [
    {
     "name": "stdout",
     "output_type": "stream",
     "text": [
      "[]\n",
      "[]\n"
     ]
    }
   ],
   "source": [
    "import requests\n",
    "import requests\n",
    "\n",
    "def get_uniprot_info_tuple(uniprot_accession_code):\n",
    "    sequence = get_sequence(uniprot_accession_code)\n",
    "    organism_id = get_organism_id(uniprot_accession_code)\n",
    "    multiple = get_multiple(uniprot_accession_code)\n",
    "    return uniprot_accession_code, sequence, organism_id, multiple\n",
    "\n",
    "\n",
    "def get_sequence(uniprot_accession_code):\n",
    "    url = f'https://rest.uniprot.org/uniprotkb/{uniprot_accession_code}.fasta'\n",
    "    response = requests.get(url)\n",
    "    if response.status_code == 200:\n",
    "        return response.text.strip()\n",
    "    raise ValueError(\"Could not retrieve sequence information\")\n",
    "\n",
    "\n",
    "import xml.etree.ElementTree as ET\n",
    "\n",
    "def get_function(uniprot_accession_code):\n",
    "    url = f'https://www.uniprot.org/uniprot/{uniprot_accession_code}.xml'\n",
    "    response = requests.get(url)\n",
    "    if response.status_code == 200:\n",
    "        root = ET.fromstring(response.content)\n",
    "        functions = []\n",
    "        for comment in root.iter('comment'):\n",
    "            if comment.attrib.get('type') == 'function':\n",
    "                function_text = comment.find('text evidence=\"2\"')\n",
    "                print(function_text)\n",
    "                functions.append(function_text)\n",
    "        return functions\n",
    "    return None\n",
    "\n",
    "\n",
    "print(get_function('P12345'))\n",
    "\n"
   ]
  }
 ],
 "metadata": {
  "kernelspec": {
   "display_name": "Javi",
   "language": "python",
   "name": "javi"
  },
  "language_info": {
   "codemirror_mode": {
    "name": "ipython",
    "version": 3
   },
   "file_extension": ".py",
   "mimetype": "text/x-python",
   "name": "python",
   "nbconvert_exporter": "python",
   "pygments_lexer": "ipython3",
   "version": "3.9.18"
  }
 },
 "nbformat": 4,
 "nbformat_minor": 2
}
