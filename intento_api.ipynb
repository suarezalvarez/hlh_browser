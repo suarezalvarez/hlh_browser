{
 "cells": [
  {
   "cell_type": "code",
   "execution_count": 2,
   "metadata": {},
   "outputs": [
    {
     "ename": "SyntaxError",
     "evalue": "EOL while scanning string literal (3869342300.py, line 61)",
     "output_type": "error",
     "traceback": [
      "\u001b[0;36m  Cell \u001b[0;32mIn[2], line 61\u001b[0;36m\u001b[0m\n\u001b[0;31m    method1 = \"get_string_ids\u001b[0m\n\u001b[0m                             ^\u001b[0m\n\u001b[0;31mSyntaxError\u001b[0m\u001b[0;31m:\u001b[0m EOL while scanning string literal\n"
     ]
    }
   ],
   "source": [
    "import requests\n",
    "\n",
    "def get_uniprot_info_tuple(uniprot_accession_code):\n",
    "    sequence = get_sequence(uniprot_accession_code)\n",
    "    organism_function = get_function(uniprot_accession_code)\n",
    "    return (sequence,organism_function)\n",
    "\n",
    "\n",
    "def get_sequence(uniprot_accession_code):\n",
    "    url = f'https://rest.uniprot.org/uniprotkb/{uniprot_accession_code}.fasta'\n",
    "    response = requests.get(url)\n",
    "    if response.status_code == 200:\n",
    "        return response.text.strip()\n",
    "    raise ValueError(\"Could not retrieve sequence information\")\n",
    "\n",
    "def get_function(uniprot_accession_code):\n",
    "    url = f'https://www.uniprot.org/uniprot/{uniprot_accession_code}.txt'\n",
    "    response = requests.get(url)\n",
    "    if response.status_code == 200:\n",
    "        hola = False\n",
    "        for line in response.text.split('\\n'):\n",
    "            if 'FUNCTION' in line:\n",
    "                hola = True\n",
    "            elif '-!-' in line:\n",
    "                hola = False\n",
    "            if hola == True: \n",
    "                line = line.replace('CC   ', '')\n",
    "                line = line.replace('-!- FUNCTION:', '')\n",
    "                print(line.strip())\n",
    "        return \n",
    "    return None\n",
    "\n",
    "def download_image(url, filename):\n",
    "    response = requests.get(url)\n",
    "    if response.status_code == 200:\n",
    "        with open(filename, 'wb') as file:\n",
    "            file.write(response.content)\n",
    "        print(f\"Image downloaded: {filename}\")\n",
    "    else:\n",
    "        print(f\"Failed to download image: {url}\")\n",
    "\n",
    "def print_image_by_assembly(assembly):\n",
    "    if assembly == 1:\n",
    "        url = \"https://cdn.rcsb.org/images/structures/1ako_assembly-1.jpeg\"\n",
    "        filename = \"assembly_1.jpeg\"\n",
    "    elif assembly == 2:\n",
    "        url = \"https://cdn.rcsb.org/images/structures/1ako_assembly-2.jpeg\"\n",
    "        filename = \"assembly_2.jpeg\"\n",
    "        download_image(url, filename)\n",
    "    else:\n",
    "        print(f\"No image available for assembly {assembly}\")\n",
    "\n",
    "\n",
    "string_api_url = \"https://version-11-5.string-db.org/api\"\n",
    "\n",
    "##Output formats\n",
    "\n",
    "output_format1 = \"tsv-no-header\"\n",
    "output_format2 = \"json\"\n",
    "output_format3 = \"image\"\n",
    "method1 = \"get_string_ids\n",
    "method2 = \"network\"\n",
    "## Set parameters\n",
    "\n",
    "params1 = {\n",
    "\n",
    "    \"identifiers\" : \"\\r\".uniprot_accession_code, # NCBI\n",
    "    \"species\" : 9606, # species NCBI identifier \n",
    "    \"limit\" : 1, # only one (best) identifier per input protein\n",
    "    \"echo_query\" : 1, # see your input identifiers in the output\n",
    "}\n",
    "\n",
    "params2 = {\n",
    "\n",
    "    \"identifiers\" : uniprot_accession_code, # your protein\n",
    "    \"species\" : 4932, # species NCBI identifier \n",
    "    \"add_white_nodes\": 15, # add 15 white nodes to my protein \n",
    "    \"network_flavor\": \"confidence\", # show confidence links\n",
    "    \"caller_identity\" : \"www.awesome_app.org\" # your app name\n",
    "\n",
    "}\n",
    "\n",
    "## Construct URL\n",
    "request_url_id = \"/\".join([string_api_url, output_format1, method1])\n",
    "request_url_network = \"/\".join([string_api_url, output_format3, method2])\n",
    "\n",
    "\n",
    "results_id = requests.post(request_url_id, data=params1)\n",
    "results_network = requests.post(request_url_network, data=params2)\n",
    "\n",
    "## Read and parse the results\n",
    "##\n",
    "\n",
    "for line in results_id.text.strip().split(\"\\n\"):\n",
    "    l = line.split(\"\\t\")\n",
    "    input_identifier, string_identifier = l[0], l[2]\n",
    "    print(\"Input:\", input_identifier, \"STRING:\", string_identifier, sep=\"\\t\")\n",
    "\n",
    "\n"
   ]
  },
  {
   "cell_type": "code",
   "execution_count": 4,
   "metadata": {},
   "outputs": [
    {
     "data": {
      "text/plain": [
       "'>sp|Q7ZSX3|PTF1A_DANRE Pancreas transcription factor 1 subunit alpha OS=Danio rerio OX=7955 GN=ptf1a PE=2 SV=1\\nMDTVLDPFTGLDSFSSSYFDDDDFFTDHSSRDHLDTDDFLDEDVDFLTNQIQEYYKDSRI\\nSQDGDYCDVGNFSFSSSSSTFSYGCADSTSELSPHRDGGLLKRRRRMRSEVEMQQLRQAA\\nNVRERRRMQSINDAFEGLRSHIPTLPYEKRLSKVDTLRLAIGYINFLAELVQSDMPIRNP\\nHSDALNQPKKVIICHRGTRSPSPNDPDYGLPPLAGHSLSWTDEKQLKDQNIIRTAKVWTP\\nEDPRKLHLKSSINNIENEPPFNFIS'"
      ]
     },
     "execution_count": 4,
     "metadata": {},
     "output_type": "execute_result"
    }
   ],
   "source": [
    "import requests\n",
    "\n",
    "def get_fasta(uniprot_accession_code):\n",
    "    url = f'https://rest.uniprot.org/uniprotkb/{uniprot_accession_code}.fasta'\n",
    "    response = requests.get(url)\n",
    "    if response.status_code == 200:\n",
    "        return response.text.strip()\n",
    "    raise ValueError(\"Could not retrieve sequence information\")\n",
    "get_fasta(\"Q7ZSX3\")\n"
   ]
  },
  {
   "cell_type": "code",
   "execution_count": 11,
   "metadata": {},
   "outputs": [
    {
     "data": {
      "text/plain": [
       "'Induces expression of IL6, CXCL8/IL8, and CSF2/GM-CSF from endothelial cells. {ECO:0000269|PubMed:12097364}.'"
      ]
     },
     "execution_count": 11,
     "metadata": {},
     "output_type": "execute_result"
    }
   ],
   "source": [
    "def get_function(uniprot_accession_code):\n",
    "    url = f'https://www.uniprot.org/uniprot/{uniprot_accession_code}.txt'\n",
    "    response = requests.get(url)\n",
    "    if response.status_code == 200:\n",
    "        function_paragraph = \"\"\n",
    "        hola = False\n",
    "        for line in response.text.split('\\n'):\n",
    "            if '-!- FUNCTION' in line:\n",
    "                hola = True\n",
    "                line = line.replace('-!- FUNCTION:', '')\n",
    "            elif '-!- SUBCELLULAR' in line:\n",
    "                hola = False\n",
    "            if hola:\n",
    "                line = line.replace('CC   ', '')\n",
    "                function_paragraph += line.strip() + \" \"\n",
    "        return function_paragraph.strip()\n",
    "    return None\n",
    "get_function(\"Q8TAD2\")\n"
   ]
  },
  {
   "cell_type": "code",
   "execution_count": 15,
   "metadata": {},
   "outputs": [
    {
     "name": "stdout",
     "output_type": "stream",
     "text": [
      "Failed to download image: https://cdn.rcsb.org/images/structures/Q8TAD2_assembly-1.jpeg\n"
     ]
    }
   ],
   "source": [
    "#from flask import Flask, request\n",
    "import requests\n",
    "#app = Flask(__name__)\n",
    "\n",
    "#@app.route('/show_image', methods=['GET'])\n",
    "def show_image(uniprot_accession_code):\n",
    "    if uniprot_accession_code:\n",
    "        url = f\"https://cdn.rcsb.org/images/structures/{uniprot_accession_code}_assembly-1.jpeg\"\n",
    "        filename = f\"{uniprot_accession_code}_assembly-1.jpeg\"\n",
    "        download_image(url, filename)\n",
    "        return f\"Image downloaded: {filename}\"\n",
    "    else:\n",
    "        return \"Please provide the 'uniprot_accession_code' parameter.\"\n",
    "show_image(\"Q8TAD2\")\n",
    "\n",
    "def download_image(url, filename):\n",
    "    response = requests.get(url)\n",
    "    if response.status_code == 200:\n",
    "        with open(filename, 'wb') as file:\n",
    "            file.write(response.content)\n",
    "        print(f\"Image downloaded: {filename}\")\n",
    "    else:\n",
    "        print(f\"Failed to download image: {url}\")\n",
    "\n",
    "#if __name__ == '__main__':\n",
    "#    app.run()\n"
   ]
  },
  {
   "cell_type": "code",
   "execution_count": null,
   "metadata": {},
   "outputs": [],
   "source": [
    "def print_image_by_assembly(assembly):\n",
    "    if assembly == 1:\n",
    "        url = \"https://cdn.rcsb.org/images/structures/1ako_assembly-1.jpeg\"\n",
    "        filename = \"assembly_1.jpeg\"\n",
    "    elif assembly == 2:\n",
    "        url = \"https://cdn.rcsb.org/images/structures/1ako_assembly-2.jpeg\"\n",
    "        filename = \"assembly_2.jpeg\"\n",
    "        download_image(url, filename)\n",
    "    else:\n",
    "        print(f\"No image available for assembly {assembly}\")"
   ]
  },
  {
   "cell_type": "code",
   "execution_count": 33,
   "metadata": {},
   "outputs": [
    {
     "name": "stdout",
     "output_type": "stream",
     "text": [
      "Input:\tYFR028C\tSTRING:\t4932.YFR028C\n",
      "Saving interaction network to YFR028C_network.png\n"
     ]
    }
   ],
   "source": [
    "\n",
    "import requests\n",
    "\n",
    "string_api_url = \"https://version-11-5.string-db.org/api\"\n",
    "uniprot_accession_code = \"YFR028C\"\n",
    "\n",
    "## Output formats\n",
    "output_format1 = \"tsv-no-header\"\n",
    "output_format2 = \"json\"\n",
    "output_format3 = \"image\"\n",
    "method1 = \"get_string_ids\"\n",
    "method2 = \"network\"\n",
    "\n",
    "## Set parameters\n",
    "params1 = {\n",
    "    \"identifiers\": uniprot_accession_code, # NCBI\n",
    "    \"limit\": 1, # only one (best) identifier per input protein\n",
    "    \"echo_query\": 1, # see your input identifiers in the output\n",
    "}\n",
    "\n",
    "params2 = {\n",
    "    \"identifiers\": uniprot_accession_code, # your protein\n",
    "    \"add_white_nodes\": 15, # add 15 white nodes to my protein \n",
    "    \"network_flavor\": \"confidence\", # show confidence links\n",
    "    \"caller_identity\": \"www.awesome_app.org\" # your app name\n",
    "}\n",
    "\n",
    "## Construct URL\n",
    "request_url_id = \"/\".join([string_api_url, output_format1, method1])\n",
    "request_url_network = \"/\".join([string_api_url, output_format3, method2])\n",
    "\n",
    "results_id = requests.post(request_url_id, data=params1)\n",
    "results_network = requests.post(request_url_network, data=params2)\n",
    "\n",
    "## Read and parse the results\n",
    "for line in results_id.text.strip().split(\"\\n\"):\n",
    "    l = line.split(\"\\t\")\n",
    "    input_identifier, string_identifier = l[0], l[2]\n",
    "    print(\"Input:\", input_identifier, \"STRING:\", string_identifier, sep=\"\\t\")\n",
    "\n",
    "## Save the network to file\n",
    "file_name = f\"{uniprot_accession_code}_network.png\"\n",
    "print(f\"Saving interaction network to {file_name}\")\n",
    "with open(file_name, 'wb') as fh:\n",
    "    fh.write(results_network.content)\n",
    "\n",
    "\n"
   ]
  },
  {
   "cell_type": "code",
   "execution_count": 43,
   "metadata": {},
   "outputs": [
    {
     "name": "stdout",
     "output_type": "stream",
     "text": [
      ">R75903.1 yl22a02.r1 Soares breast 2NbHBst Homo sapiens cDNA clone IMAGE:158954 5' similar to gb:M96789 GAP JUNCTION ALPHA-4 PROTEIN (HUMAN), mRNA sequence\n",
      "GAAGATGGTCGCCTGCGCATCCGGGANACTGATGGGCACCTATGTCGCCAGTGTGCTCTGCAAGAGTGTG\n",
      "CTAGAGGCAGGCTTCCTCTATGGCCAGTNGCGCCTGTACGGCTGGACCATGGAGCCCGTGTTTGTGTGCC\n",
      "AGCGAGCACCCTGCCCCTACCTCGTGGACTGCTTTGTCTCTCGCCCCACGGAGAAGACCATCTTCATCAT\n",
      "CTTCATGTTGGTGGTTNGACTCATCTCCCTGGGTGCTTAACCTGCTGGG\n",
      "\n",
      "\n"
     ]
    }
   ],
   "source": [
    "import requests\n",
    "\n",
    "def fetch_nucleotide_sequence(nucleotide_id):\n",
    "    # NCBI E-utilities API URL for fetching nucleotide sequences\n",
    "    api_url = \"https://eutils.ncbi.nlm.nih.gov/entrez/eutils/efetch.fcgi\"\n",
    "    params = {\n",
    "        \"db\": \"nuccore\",\n",
    "        \"id\": nucleotide_id,\n",
    "        \"rettype\": \"fasta\",\n",
    "        \"retmode\": \"text\"\n",
    "    }\n",
    "    \n",
    "    # Make the request to NCBI\n",
    "    response = requests.get(api_url, params=params)\n",
    "    \n",
    "    if response.status_code == 200:\n",
    "        # Print the FASTA formatted text\n",
    "        print(response.text)\n",
    "    else:\n",
    "        print(\"Failed to fetch nucleotide sequence from NCBI. Status code:\", response.status_code)\n",
    "\n",
    "# Example nucleotide ID\n",
    "nucleotide_id = \"850585\"\n",
    "fetch_nucleotide_sequence(nucleotide_id)\n"
   ]
  },
  {
   "cell_type": "code",
   "execution_count": null,
   "metadata": {},
   "outputs": [],
   "source": []
  }
 ],
 "metadata": {
  "kernelspec": {
   "display_name": "MyPyth1",
   "language": "python",
   "name": "python3"
  },
  "language_info": {
   "codemirror_mode": {
    "name": "ipython",
    "version": 3
   },
   "file_extension": ".py",
   "mimetype": "text/x-python",
   "name": "python",
   "nbconvert_exporter": "python",
   "pygments_lexer": "ipython3",
   "version": "3.9.18"
  }
 },
 "nbformat": 4,
 "nbformat_minor": 2
}
